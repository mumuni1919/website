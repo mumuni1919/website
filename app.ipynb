{
 "cells": [
  {
   "cell_type": "code",
   "execution_count": null,
   "metadata": {},
   "outputs": [
    {
     "name": "stdout",
     "output_type": "stream",
     "text": [
      " * Serving Flask app \"__main__\" (lazy loading)\n",
      " * Environment: production\n",
      "   WARNING: This is a development server. Do not use it in a production deployment.\n",
      "   Use a production WSGI server instead.\n",
      " * Debug mode: off\n"
     ]
    },
    {
     "name": "stderr",
     "output_type": "stream",
     "text": [
      " * Running on http://127.0.0.1:5000/ (Press CTRL+C to quit)\n",
      "127.0.0.1 - - [03/May/2024 11:21:03] \"\u001b[37mGET / HTTP/1.1\u001b[0m\" 200 -\n",
      "127.0.0.1 - - [03/May/2024 11:21:07] \"\u001b[37mGET / HTTP/1.1\u001b[0m\" 200 -\n",
      "127.0.0.1 - - [03/May/2024 11:21:08] \"\u001b[37mGET /about HTTP/1.1\u001b[0m\" 200 -\n",
      "127.0.0.1 - - [03/May/2024 11:21:58] \"\u001b[37mGET /work HTTP/1.1\u001b[0m\" 200 -\n",
      "127.0.0.1 - - [03/May/2024 11:22:06] \"\u001b[37mGET /family HTTP/1.1\u001b[0m\" 200 -\n",
      "127.0.0.1 - - [03/May/2024 11:22:14] \"\u001b[37mGET /hobbies HTTP/1.1\u001b[0m\" 200 -\n",
      "127.0.0.1 - - [03/May/2024 11:22:33] \"\u001b[37mGET /about HTTP/1.1\u001b[0m\" 200 -\n",
      "127.0.0.1 - - [03/May/2024 11:23:14] \"\u001b[37mGET /family HTTP/1.1\u001b[0m\" 200 -\n",
      "127.0.0.1 - - [03/May/2024 11:23:27] \"\u001b[37mGET /hobbies HTTP/1.1\u001b[0m\" 200 -\n",
      "127.0.0.1 - - [03/May/2024 11:23:28] \"\u001b[37mGET /work HTTP/1.1\u001b[0m\" 200 -\n",
      "127.0.0.1 - - [03/May/2024 11:23:29] \"\u001b[37mGET /about HTTP/1.1\u001b[0m\" 200 -\n"
     ]
    }
   ],
   "source": [
    "from flask import Flask, render_template, url_for\n",
    "\n",
    "app = Flask(__name__) \n",
    "\n",
    "@app.route(\"/\") \n",
    "def Homepage():\n",
    "    return render_template(\"index.html\")\n",
    "\n",
    "@app.route(\"/about\") \n",
    "def ABOUT():\n",
    "    return render_template(\"about.html\")\n",
    "\n",
    "@app.route(\"/work\") \n",
    "def WORK():\n",
    "    return render_template(\"work.html\")\n",
    "\n",
    "@app.route(\"/hobbies\") \n",
    "def HOBBIES():\n",
    "    return render_template(\"hobbies.html\")\n",
    "\n",
    "@app.route(\"/family\") \n",
    "def FAMILY():\n",
    "    return render_template(\"family.html\")\n",
    "\n",
    "\n",
    "if __name__ == \"__main__\":\n",
    "    app.run()"
   ]
  },
  {
   "cell_type": "code",
   "execution_count": null,
   "metadata": {},
   "outputs": [],
   "source": []
  }
 ],
 "metadata": {
  "kernelspec": {
   "display_name": "Python 3",
   "language": "python",
   "name": "python3"
  },
  "language_info": {
   "codemirror_mode": {
    "name": "ipython",
    "version": 3
   },
   "file_extension": ".py",
   "mimetype": "text/x-python",
   "name": "python",
   "nbconvert_exporter": "python",
   "pygments_lexer": "ipython3",
   "version": "3.8.5"
  }
 },
 "nbformat": 4,
 "nbformat_minor": 4
}
